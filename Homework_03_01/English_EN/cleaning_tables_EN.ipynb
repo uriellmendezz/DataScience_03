{
 "cells": [
  {
   "cell_type": "code",
   "execution_count": 2,
   "metadata": {},
   "outputs": [],
   "source": [
    "import pandas as pd"
   ]
  },
  {
   "attachments": {},
   "cell_type": "markdown",
   "metadata": {},
   "source": [
    "In this notebook, I will clean and transform all the tables that then I will use in MySQL. There are some files in excel format (xls,xlsx) so I'm gonna convert them to csv format to make it easier when inserting the data into the tables. \n",
    "\n",
    "So, let's go ahead."
   ]
  },
  {
   "cell_type": "code",
   "execution_count": 4,
   "metadata": {},
   "outputs": [],
   "source": [
    "clientes_table = pd.read_csv(\"../../../Clase 01/Homework/Clientes.csv\",encoding=\"utf-8\",delimiter=\";\")"
   ]
  },
  {
   "cell_type": "code",
   "execution_count": 5,
   "metadata": {},
   "outputs": [
    {
     "name": "stdout",
     "output_type": "stream",
     "text": [
      "<class 'pandas.core.frame.DataFrame'>\n",
      "RangeIndex: 3407 entries, 0 to 3406\n",
      "Data columns (total 15 columns):\n",
      " #   Column                       Non-Null Count  Dtype  \n",
      "---  ------                       --------------  -----  \n",
      " 0   ID                           3407 non-null   int64  \n",
      " 1   Provincia                    3376 non-null   object \n",
      " 2   Nombre_y_Apellido            3361 non-null   object \n",
      " 3   Domicilio                    3359 non-null   object \n",
      " 4   Telefono                     3317 non-null   object \n",
      " 5   Edad                         3407 non-null   int64  \n",
      " 6   Localidad                    3375 non-null   object \n",
      " 7   X                            3345 non-null   object \n",
      " 8   Y                            3347 non-null   object \n",
      " 9   Fecha_Alta                   3407 non-null   object \n",
      " 10  Usuario_Alta                 3407 non-null   object \n",
      " 11  Fecha_Ultima_Modificacion    3407 non-null   object \n",
      " 12  Usuario_Ultima_Modificacion  3407 non-null   object \n",
      " 13  Marca_Baja                   3407 non-null   int64  \n",
      " 14  col10                        0 non-null      float64\n",
      "dtypes: float64(1), int64(3), object(11)\n",
      "memory usage: 399.4+ KB\n"
     ]
    }
   ],
   "source": [
    "clientes_table.info()"
   ]
  },
  {
   "attachments": {},
   "cell_type": "markdown",
   "metadata": {},
   "source": [
    "As you can see, the dataframe has one column completly empy (col10), so im gonna remove it from the df"
   ]
  },
  {
   "cell_type": "code",
   "execution_count": 7,
   "metadata": {},
   "outputs": [],
   "source": [
    "clientes_table = clientes_table.drop([\"col10\"],axis=1)"
   ]
  },
  {
   "attachments": {},
   "cell_type": "markdown",
   "metadata": {},
   "source": [
    "Renaming the columns that express Longitude and Latitude"
   ]
  },
  {
   "cell_type": "code",
   "execution_count": 8,
   "metadata": {},
   "outputs": [],
   "source": [
    "clientes_table.rename(columns={\"X\":\"Longitud\",\"Y\":\"Latitud\"},inplace=True)"
   ]
  },
  {
   "cell_type": "code",
   "execution_count": 9,
   "metadata": {},
   "outputs": [],
   "source": [
    "clientes_table[\"Latitud\"] = clientes_table[\"Latitud\"].astype(\"str\")\n",
    "clientes_table[\"Longitud\"] = clientes_table[\"Longitud\"].astype(\"str\")"
   ]
  },
  {
   "cell_type": "code",
   "execution_count": 12,
   "metadata": {},
   "outputs": [
    {
     "data": {
      "text/plain": [
       "0    -58,81850307\n",
       "1    -58,73073751\n",
       "2    -59,12794068\n",
       "3    -58,14393954\n",
       "4      -58,089381\n",
       "Name: Longitud, dtype: object"
      ]
     },
     "execution_count": 12,
     "metadata": {},
     "output_type": "execute_result"
    }
   ],
   "source": [
    "clientes_table.Longitud.head()"
   ]
  },
  {
   "attachments": {},
   "cell_type": "markdown",
   "metadata": {},
   "source": [
    "Since I need the columns in a decimal format, it's necessary to change the commas to dots"
   ]
  },
  {
   "cell_type": "code",
   "execution_count": 13,
   "metadata": {},
   "outputs": [],
   "source": [
    "clientes_table[\"Latitud\"] = clientes_table[\"Latitud\"].apply(lambda x: x.replace(\",\",\".\"))\n",
    "clientes_table[\"Longitud\"] = clientes_table[\"Longitud\"].apply(lambda x: x.replace(\",\",\".\"))"
   ]
  },
  {
   "cell_type": "code",
   "execution_count": 14,
   "metadata": {},
   "outputs": [
    {
     "data": {
      "text/plain": [
       "0    -58.81850307\n",
       "1    -58.73073751\n",
       "2    -59.12794068\n",
       "3    -58.14393954\n",
       "4      -58.089381\n",
       "Name: Longitud, dtype: object"
      ]
     },
     "execution_count": 14,
     "metadata": {},
     "output_type": "execute_result"
    }
   ],
   "source": [
    "clientes_table.Longitud.head()"
   ]
  },
  {
   "attachments": {},
   "cell_type": "markdown",
   "metadata": {},
   "source": [
    "So now I have the dataframe in a better way. Let's check it out."
   ]
  },
  {
   "attachments": {},
   "cell_type": "markdown",
   "metadata": {},
   "source": [
    "*Just in case, I won't delete the \"Marca Baja\" column because I don't know if later I will need it*"
   ]
  },
  {
   "cell_type": "code",
   "execution_count": 15,
   "metadata": {},
   "outputs": [
    {
     "data": {
      "text/html": [
       "<div>\n",
       "<style scoped>\n",
       "    .dataframe tbody tr th:only-of-type {\n",
       "        vertical-align: middle;\n",
       "    }\n",
       "\n",
       "    .dataframe tbody tr th {\n",
       "        vertical-align: top;\n",
       "    }\n",
       "\n",
       "    .dataframe thead th {\n",
       "        text-align: right;\n",
       "    }\n",
       "</style>\n",
       "<table border=\"1\" class=\"dataframe\">\n",
       "  <thead>\n",
       "    <tr style=\"text-align: right;\">\n",
       "      <th></th>\n",
       "      <th>ID</th>\n",
       "      <th>Provincia</th>\n",
       "      <th>Nombre_y_Apellido</th>\n",
       "      <th>Domicilio</th>\n",
       "      <th>Telefono</th>\n",
       "      <th>Edad</th>\n",
       "      <th>Localidad</th>\n",
       "      <th>Longitud</th>\n",
       "      <th>Latitud</th>\n",
       "      <th>Fecha_Alta</th>\n",
       "      <th>Usuario_Alta</th>\n",
       "      <th>Fecha_Ultima_Modificacion</th>\n",
       "      <th>Usuario_Ultima_Modificacion</th>\n",
       "      <th>Marca_Baja</th>\n",
       "    </tr>\n",
       "  </thead>\n",
       "  <tbody>\n",
       "    <tr>\n",
       "      <th>0</th>\n",
       "      <td>1</td>\n",
       "      <td>Buenos Aires</td>\n",
       "      <td>HEBER JONI SANTANA</td>\n",
       "      <td>LAS HERAS Y BAT. 24 DE FEBRERO 4150  RINCON DE...</td>\n",
       "      <td>42-5161</td>\n",
       "      <td>58</td>\n",
       "      <td>LOMA VERDE</td>\n",
       "      <td>-58.81850307</td>\n",
       "      <td>-34.30997088</td>\n",
       "      <td>2015-01-01</td>\n",
       "      <td>user1</td>\n",
       "      <td>2015-01-01</td>\n",
       "      <td>user1</td>\n",
       "      <td>0</td>\n",
       "    </tr>\n",
       "    <tr>\n",
       "      <th>1</th>\n",
       "      <td>2</td>\n",
       "      <td>Buenos Aires</td>\n",
       "      <td>ANA SAPRIZA</td>\n",
       "      <td>PUEYRREDON Y DUPUY RUTA3 KM 52.500 S/N  BÂº LO...</td>\n",
       "      <td>49-7578</td>\n",
       "      <td>61</td>\n",
       "      <td>SANTA ROSA</td>\n",
       "      <td>-58.73073751</td>\n",
       "      <td>-34.93908311</td>\n",
       "      <td>2015-01-01</td>\n",
       "      <td>user1</td>\n",
       "      <td>2015-01-01</td>\n",
       "      <td>user1</td>\n",
       "      <td>0</td>\n",
       "    </tr>\n",
       "    <tr>\n",
       "      <th>2</th>\n",
       "      <td>3</td>\n",
       "      <td>Buenos Aires</td>\n",
       "      <td>FERNANDO LUIS SARALEGUI</td>\n",
       "      <td>CALDERON DE LA BARCA 498</td>\n",
       "      <td>49-3435</td>\n",
       "      <td>15</td>\n",
       "      <td>TORRES</td>\n",
       "      <td>-59.12794068</td>\n",
       "      <td>-34.43082199</td>\n",
       "      <td>2015-01-01</td>\n",
       "      <td>user1</td>\n",
       "      <td>2015-01-01</td>\n",
       "      <td>user1</td>\n",
       "      <td>0</td>\n",
       "    </tr>\n",
       "  </tbody>\n",
       "</table>\n",
       "</div>"
      ],
      "text/plain": [
       "   ID     Provincia        Nombre_y_Apellido  \\\n",
       "0   1  Buenos Aires       HEBER JONI SANTANA   \n",
       "1   2  Buenos Aires              ANA SAPRIZA   \n",
       "2   3  Buenos Aires  FERNANDO LUIS SARALEGUI   \n",
       "\n",
       "                                           Domicilio Telefono  Edad  \\\n",
       "0  LAS HERAS Y BAT. 24 DE FEBRERO 4150  RINCON DE...  42-5161    58   \n",
       "1  PUEYRREDON Y DUPUY RUTA3 KM 52.500 S/N  BÂº LO...  49-7578    61   \n",
       "2                           CALDERON DE LA BARCA 498  49-3435    15   \n",
       "\n",
       "    Localidad      Longitud       Latitud  Fecha_Alta Usuario_Alta  \\\n",
       "0  LOMA VERDE  -58.81850307  -34.30997088  2015-01-01        user1   \n",
       "1  SANTA ROSA  -58.73073751  -34.93908311  2015-01-01        user1   \n",
       "2      TORRES  -59.12794068  -34.43082199  2015-01-01        user1   \n",
       "\n",
       "  Fecha_Ultima_Modificacion Usuario_Ultima_Modificacion  Marca_Baja  \n",
       "0                2015-01-01                       user1           0  \n",
       "1                2015-01-01                       user1           0  \n",
       "2                2015-01-01                       user1           0  "
      ]
     },
     "execution_count": 15,
     "metadata": {},
     "output_type": "execute_result"
    }
   ],
   "source": [
    "clientes_table.head(3)"
   ]
  },
  {
   "cell_type": "code",
   "execution_count": 9,
   "metadata": {},
   "outputs": [
    {
     "name": "stdout",
     "output_type": "stream",
     "text": [
      "<class 'pandas.core.frame.DataFrame'>\n",
      "RangeIndex: 3407 entries, 0 to 3406\n",
      "Data columns (total 14 columns):\n",
      " #   Column                       Non-Null Count  Dtype \n",
      "---  ------                       --------------  ----- \n",
      " 0   ID                           3407 non-null   int64 \n",
      " 1   Provincia                    3376 non-null   object\n",
      " 2   Nombre_y_Apellido            3361 non-null   object\n",
      " 3   Domicilio                    3359 non-null   object\n",
      " 4   Telefono                     3317 non-null   object\n",
      " 5   Edad                         3407 non-null   int64 \n",
      " 6   Localidad                    3375 non-null   object\n",
      " 7   Longitud                     3407 non-null   object\n",
      " 8   Latitud                      3407 non-null   object\n",
      " 9   Fecha_Alta                   3407 non-null   object\n",
      " 10  Usuario_Alta                 3407 non-null   object\n",
      " 11  Fecha_Ultima_Modificacion    3407 non-null   object\n",
      " 12  Usuario_Ultima_Modificacion  3407 non-null   object\n",
      " 13  Marca_Baja                   3407 non-null   int64 \n",
      "dtypes: int64(3), object(11)\n",
      "memory usage: 372.8+ KB\n"
     ]
    }
   ],
   "source": [
    "clientes_table.info()"
   ]
  },
  {
   "attachments": {},
   "cell_type": "markdown",
   "metadata": {},
   "source": [
    "So now this dataframe is able to export as csv format"
   ]
  },
  {
   "cell_type": "code",
   "execution_count": 9,
   "metadata": {},
   "outputs": [],
   "source": [
    "clientes_table.to_csv(\"../../Homework/clientes_clean.csv\",index=False,encoding=\"utf-8\")"
   ]
  },
  {
   "attachments": {},
   "cell_type": "markdown",
   "metadata": {},
   "source": [
    "Now I do the same for the next tables"
   ]
  },
  {
   "cell_type": "code",
   "execution_count": 18,
   "metadata": {},
   "outputs": [],
   "source": [
    "sucursales_table = pd.read_csv(\"../../../Clase 01/Homework/Sucursales.csv\",delimiter=\";\",encoding=\"utf-8\")"
   ]
  },
  {
   "cell_type": "code",
   "execution_count": 19,
   "metadata": {},
   "outputs": [],
   "source": [
    "sucursales_table[\"Latitud\"] = sucursales_table[\"Latitud\"].apply(lambda x: x.replace(\",\",\".\"))\n",
    "sucursales_table[\"Longitud\"] = sucursales_table[\"Longitud\"].apply(lambda x: x.replace(\",\",\".\"))"
   ]
  },
  {
   "cell_type": "code",
   "execution_count": 20,
   "metadata": {},
   "outputs": [
    {
     "data": {
      "text/html": [
       "<div>\n",
       "<style scoped>\n",
       "    .dataframe tbody tr th:only-of-type {\n",
       "        vertical-align: middle;\n",
       "    }\n",
       "\n",
       "    .dataframe tbody tr th {\n",
       "        vertical-align: top;\n",
       "    }\n",
       "\n",
       "    .dataframe thead th {\n",
       "        text-align: right;\n",
       "    }\n",
       "</style>\n",
       "<table border=\"1\" class=\"dataframe\">\n",
       "  <thead>\n",
       "    <tr style=\"text-align: right;\">\n",
       "      <th></th>\n",
       "      <th>ID</th>\n",
       "      <th>Sucursal</th>\n",
       "      <th>Direccion</th>\n",
       "      <th>Localidad</th>\n",
       "      <th>Provincia</th>\n",
       "      <th>Latitud</th>\n",
       "      <th>Longitud</th>\n",
       "    </tr>\n",
       "  </thead>\n",
       "  <tbody>\n",
       "    <tr>\n",
       "      <th>0</th>\n",
       "      <td>1</td>\n",
       "      <td>Cabildo</td>\n",
       "      <td>Av. Cabildo 1342</td>\n",
       "      <td>Ciudad de Buenos Aires</td>\n",
       "      <td>Ciudad de Buenos Aires</td>\n",
       "      <td>-34.5678060</td>\n",
       "      <td>-58.4495720</td>\n",
       "    </tr>\n",
       "    <tr>\n",
       "      <th>1</th>\n",
       "      <td>2</td>\n",
       "      <td>Palermo 1</td>\n",
       "      <td>Guatemala 5701</td>\n",
       "      <td>CABA</td>\n",
       "      <td>CABA</td>\n",
       "      <td>-34.5790350</td>\n",
       "      <td>-58.4335660</td>\n",
       "    </tr>\n",
       "    <tr>\n",
       "      <th>2</th>\n",
       "      <td>3</td>\n",
       "      <td>Palermo 2</td>\n",
       "      <td>Gral. Lucio Norberto Mansilla 2668</td>\n",
       "      <td>CABA</td>\n",
       "      <td>C deBuenos Aires</td>\n",
       "      <td>-34.5959660</td>\n",
       "      <td>-58.4051500</td>\n",
       "    </tr>\n",
       "  </tbody>\n",
       "</table>\n",
       "</div>"
      ],
      "text/plain": [
       "   ID   Sucursal                           Direccion               Localidad  \\\n",
       "0   1    Cabildo                    Av. Cabildo 1342  Ciudad de Buenos Aires   \n",
       "1   2  Palermo 1                      Guatemala 5701                    CABA   \n",
       "2   3  Palermo 2  Gral. Lucio Norberto Mansilla 2668                    CABA   \n",
       "\n",
       "                Provincia      Latitud     Longitud  \n",
       "0  Ciudad de Buenos Aires  -34.5678060  -58.4495720  \n",
       "1                    CABA  -34.5790350  -58.4335660  \n",
       "2        C deBuenos Aires  -34.5959660  -58.4051500  "
      ]
     },
     "execution_count": 20,
     "metadata": {},
     "output_type": "execute_result"
    }
   ],
   "source": [
    "sucursales_table.head(3)"
   ]
  },
  {
   "cell_type": "code",
   "execution_count": 30,
   "metadata": {},
   "outputs": [],
   "source": [
    "sucursales_table.to_csv(\"../../Homework/Sucursales_clean.csv\",index=False,encoding=\"utf-8\")"
   ]
  },
  {
   "attachments": {},
   "cell_type": "markdown",
   "metadata": {},
   "source": [
    "In this point, the rest of the tables are in excel format, so to be able to convert them to CSV, I need to import 'openpyxl' and 'xlrd' libraries"
   ]
  },
  {
   "cell_type": "code",
   "execution_count": 21,
   "metadata": {},
   "outputs": [],
   "source": [
    "import openpyxl\n",
    "import xlrd"
   ]
  },
  {
   "cell_type": "code",
   "execution_count": 24,
   "metadata": {},
   "outputs": [],
   "source": [
    "canalventa = pd.read_excel('../../../Clase 01/Homework/CanalDeVenta.xlsx')\n",
    "canalventa.to_csv('../../Homework/CanalDeVenta_csv.csv',index=False,encoding=\"utf-8\")"
   ]
  },
  {
   "cell_type": "code",
   "execution_count": 19,
   "metadata": {},
   "outputs": [],
   "source": [
    "empleados = pd.read_excel('../../Homework/Empleados.xls')\n",
    "empleados.to_csv('../../Homework/Empleados_csv.csv',index=False,encoding=\"utf-8\")"
   ]
  },
  {
   "cell_type": "code",
   "execution_count": 21,
   "metadata": {},
   "outputs": [],
   "source": [
    "productos = pd.read_excel('../../Homework/PRODUCTOS.xlsx')\n",
    "productos.to_csv('../../Homework/Productos_csv.csv',index=False,encoding=\"utf-8\")"
   ]
  },
  {
   "cell_type": "code",
   "execution_count": 22,
   "metadata": {},
   "outputs": [],
   "source": [
    "proveedores = pd.read_excel('../../Homework/Proveedores.xlsx')\n",
    "proveedores.to_csv('../../Homework/Proveedores_csv.csv',index=False,encoding=\"utf-8\")"
   ]
  },
  {
   "cell_type": "code",
   "execution_count": 164,
   "metadata": {},
   "outputs": [],
   "source": [
    "import random"
   ]
  },
  {
   "cell_type": "code",
   "execution_count": 28,
   "metadata": {},
   "outputs": [],
   "source": [
    "empleados = pd.read_csv('../../../Clase 01/Homework/Empleados_csv.csv',encoding=\"utf-8\")"
   ]
  },
  {
   "cell_type": "code",
   "execution_count": 29,
   "metadata": {},
   "outputs": [
    {
     "data": {
      "text/html": [
       "<div>\n",
       "<style scoped>\n",
       "    .dataframe tbody tr th:only-of-type {\n",
       "        vertical-align: middle;\n",
       "    }\n",
       "\n",
       "    .dataframe tbody tr th {\n",
       "        vertical-align: top;\n",
       "    }\n",
       "\n",
       "    .dataframe thead th {\n",
       "        text-align: right;\n",
       "    }\n",
       "</style>\n",
       "<table border=\"1\" class=\"dataframe\">\n",
       "  <thead>\n",
       "    <tr style=\"text-align: right;\">\n",
       "      <th></th>\n",
       "      <th>ID_empleado</th>\n",
       "      <th>Apellido</th>\n",
       "      <th>Nombre</th>\n",
       "      <th>Sucursal</th>\n",
       "      <th>Sector</th>\n",
       "      <th>Cargo</th>\n",
       "      <th>Salario</th>\n",
       "    </tr>\n",
       "  </thead>\n",
       "  <tbody>\n",
       "    <tr>\n",
       "      <th>0</th>\n",
       "      <td>1968</td>\n",
       "      <td>Burgos</td>\n",
       "      <td>Jeronimo</td>\n",
       "      <td>Caseros</td>\n",
       "      <td>Administración</td>\n",
       "      <td>Administrativo</td>\n",
       "      <td>32000</td>\n",
       "    </tr>\n",
       "    <tr>\n",
       "      <th>1</th>\n",
       "      <td>1674</td>\n",
       "      <td>Villegas</td>\n",
       "      <td>Estefania</td>\n",
       "      <td>Caseros</td>\n",
       "      <td>Administración</td>\n",
       "      <td>Vendedor</td>\n",
       "      <td>32000</td>\n",
       "    </tr>\n",
       "    <tr>\n",
       "      <th>2</th>\n",
       "      <td>1516</td>\n",
       "      <td>Fernandez</td>\n",
       "      <td>Guillermo</td>\n",
       "      <td>Caseros</td>\n",
       "      <td>Administración</td>\n",
       "      <td>Vendedor</td>\n",
       "      <td>45000</td>\n",
       "    </tr>\n",
       "    <tr>\n",
       "      <th>3</th>\n",
       "      <td>1330</td>\n",
       "      <td>Ramirez</td>\n",
       "      <td>Eliana</td>\n",
       "      <td>Caseros</td>\n",
       "      <td>Administración</td>\n",
       "      <td>Vendedor</td>\n",
       "      <td>32000</td>\n",
       "    </tr>\n",
       "    <tr>\n",
       "      <th>4</th>\n",
       "      <td>1657</td>\n",
       "      <td>Carmona</td>\n",
       "      <td>Jose</td>\n",
       "      <td>Caseros</td>\n",
       "      <td>Administración</td>\n",
       "      <td>Vendedor</td>\n",
       "      <td>32000</td>\n",
       "    </tr>\n",
       "  </tbody>\n",
       "</table>\n",
       "</div>"
      ],
      "text/plain": [
       "   ID_empleado   Apellido     Nombre Sucursal          Sector           Cargo  \\\n",
       "0         1968     Burgos   Jeronimo  Caseros  Administración  Administrativo   \n",
       "1         1674   Villegas  Estefania  Caseros  Administración        Vendedor   \n",
       "2         1516  Fernandez  Guillermo  Caseros  Administración        Vendedor   \n",
       "3         1330    Ramirez     Eliana  Caseros  Administración        Vendedor   \n",
       "4         1657    Carmona       Jose  Caseros  Administración        Vendedor   \n",
       "\n",
       "   Salario  \n",
       "0    32000  \n",
       "1    32000  \n",
       "2    45000  \n",
       "3    32000  \n",
       "4    32000  "
      ]
     },
     "execution_count": 29,
     "metadata": {},
     "output_type": "execute_result"
    }
   ],
   "source": [
    "empleados.head()"
   ]
  },
  {
   "cell_type": "code",
   "execution_count": 30,
   "metadata": {},
   "outputs": [
    {
     "data": {
      "text/plain": [
       "3875    3\n",
       "1968    2\n",
       "1725    2\n",
       "3622    2\n",
       "3842    2\n",
       "       ..\n",
       "1975    1\n",
       "1759    1\n",
       "1055    1\n",
       "1054    1\n",
       "3545    1\n",
       "Name: ID_empleado, Length: 250, dtype: int64"
      ]
     },
     "execution_count": 30,
     "metadata": {},
     "output_type": "execute_result"
    }
   ],
   "source": [
    "empleados.ID_empleado.value_counts()"
   ]
  },
  {
   "attachments": {},
   "cell_type": "markdown",
   "metadata": {},
   "source": [
    "I realized that in this table, there are many Id's that are duplicated form the column \"ID_empleado\", so here im gonna set them new ids to avoid mistakes so during the creation/insertion process of tables in MySQL"
   ]
  },
  {
   "cell_type": "code",
   "execution_count": 31,
   "metadata": {},
   "outputs": [],
   "source": [
    "#Unique values only\n",
    "unique_values = empleados.ID_empleado.unique()\n",
    "\n",
    "# The amount of rows we have in the df (total of ID's)\n",
    "total_values = len(empleados)\n",
    "\n",
    "# A list with all the values between the minimum value and the maximum value\n",
    "rango = list(range(unique_values.min(),unique_values.max() + 1))\n",
    "\n",
    "# Removing the unique values from the range with all the values\n",
    "for i in unique_values:\n",
    "    rango.remove(i)"
   ]
  },
  {
   "cell_type": "code",
   "execution_count": 32,
   "metadata": {},
   "outputs": [],
   "source": [
    "# The difference between the total of ID´s and the length from unique_values\n",
    "dif = (total_values) - len(unique_values)\n",
    "\n",
    "# A list with all the new's indexes\n",
    "total = list(unique_values) + rango[:dif]\n",
    "total.sort()\n",
    "empleados[\"IdEmpleado\"] = total"
   ]
  },
  {
   "attachments": {},
   "cell_type": "markdown",
   "metadata": {},
   "source": [
    "Once I got all the new ids, I won´t need any more the oldest ids so I delete them"
   ]
  },
  {
   "cell_type": "code",
   "execution_count": 33,
   "metadata": {},
   "outputs": [],
   "source": [
    "empleados.drop(columns = [\"ID_empleado\"], inplace = True)"
   ]
  },
  {
   "cell_type": "code",
   "execution_count": 34,
   "metadata": {},
   "outputs": [],
   "source": [
    "empleados = empleados[[\"IdEmpleado\",\"Nombre\",\"Apellido\",\"Sucursal\",\"Sector\",\"Cargo\",\"Salario\"]]"
   ]
  },
  {
   "cell_type": "code",
   "execution_count": 35,
   "metadata": {},
   "outputs": [
    {
     "data": {
      "text/html": [
       "<div>\n",
       "<style scoped>\n",
       "    .dataframe tbody tr th:only-of-type {\n",
       "        vertical-align: middle;\n",
       "    }\n",
       "\n",
       "    .dataframe tbody tr th {\n",
       "        vertical-align: top;\n",
       "    }\n",
       "\n",
       "    .dataframe thead th {\n",
       "        text-align: right;\n",
       "    }\n",
       "</style>\n",
       "<table border=\"1\" class=\"dataframe\">\n",
       "  <thead>\n",
       "    <tr style=\"text-align: right;\">\n",
       "      <th></th>\n",
       "      <th>IdEmpleado</th>\n",
       "      <th>Nombre</th>\n",
       "      <th>Apellido</th>\n",
       "      <th>Sucursal</th>\n",
       "      <th>Sector</th>\n",
       "      <th>Cargo</th>\n",
       "      <th>Salario</th>\n",
       "    </tr>\n",
       "  </thead>\n",
       "  <tbody>\n",
       "    <tr>\n",
       "      <th>0</th>\n",
       "      <td>1011</td>\n",
       "      <td>Jeronimo</td>\n",
       "      <td>Burgos</td>\n",
       "      <td>Caseros</td>\n",
       "      <td>Administración</td>\n",
       "      <td>Administrativo</td>\n",
       "      <td>32000</td>\n",
       "    </tr>\n",
       "    <tr>\n",
       "      <th>1</th>\n",
       "      <td>1012</td>\n",
       "      <td>Estefania</td>\n",
       "      <td>Villegas</td>\n",
       "      <td>Caseros</td>\n",
       "      <td>Administración</td>\n",
       "      <td>Vendedor</td>\n",
       "      <td>32000</td>\n",
       "    </tr>\n",
       "    <tr>\n",
       "      <th>2</th>\n",
       "      <td>1013</td>\n",
       "      <td>Guillermo</td>\n",
       "      <td>Fernandez</td>\n",
       "      <td>Caseros</td>\n",
       "      <td>Administración</td>\n",
       "      <td>Vendedor</td>\n",
       "      <td>45000</td>\n",
       "    </tr>\n",
       "    <tr>\n",
       "      <th>3</th>\n",
       "      <td>1014</td>\n",
       "      <td>Eliana</td>\n",
       "      <td>Ramirez</td>\n",
       "      <td>Caseros</td>\n",
       "      <td>Administración</td>\n",
       "      <td>Vendedor</td>\n",
       "      <td>32000</td>\n",
       "    </tr>\n",
       "    <tr>\n",
       "      <th>4</th>\n",
       "      <td>1015</td>\n",
       "      <td>Jose</td>\n",
       "      <td>Carmona</td>\n",
       "      <td>Caseros</td>\n",
       "      <td>Administración</td>\n",
       "      <td>Vendedor</td>\n",
       "      <td>32000</td>\n",
       "    </tr>\n",
       "  </tbody>\n",
       "</table>\n",
       "</div>"
      ],
      "text/plain": [
       "   IdEmpleado     Nombre   Apellido Sucursal          Sector           Cargo  \\\n",
       "0        1011   Jeronimo     Burgos  Caseros  Administración  Administrativo   \n",
       "1        1012  Estefania   Villegas  Caseros  Administración        Vendedor   \n",
       "2        1013  Guillermo  Fernandez  Caseros  Administración        Vendedor   \n",
       "3        1014     Eliana    Ramirez  Caseros  Administración        Vendedor   \n",
       "4        1015       Jose    Carmona  Caseros  Administración        Vendedor   \n",
       "\n",
       "   Salario  \n",
       "0    32000  \n",
       "1    32000  \n",
       "2    45000  \n",
       "3    32000  \n",
       "4    32000  "
      ]
     },
     "execution_count": 35,
     "metadata": {},
     "output_type": "execute_result"
    }
   ],
   "source": [
    "empleados.head()"
   ]
  },
  {
   "cell_type": "code",
   "execution_count": 10,
   "metadata": {},
   "outputs": [],
   "source": [
    "empleados.to_csv(\"C:/Users/uriel/OneDrive/Documents/Capetas/Data Science/Soy Henry Contenido/Modulo 3/Clase 01/Homework/Empleados_clean.csv\",index=False,encoding=\"utf-8\")"
   ]
  },
  {
   "attachments": {},
   "cell_type": "markdown",
   "metadata": {},
   "source": [
    "That's all, I'm done with the cleaning/transforming process"
   ]
  }
 ],
 "metadata": {
  "kernelspec": {
   "display_name": "Python 3",
   "language": "python",
   "name": "python3"
  },
  "language_info": {
   "codemirror_mode": {
    "name": "ipython",
    "version": 3
   },
   "file_extension": ".py",
   "mimetype": "text/x-python",
   "name": "python",
   "nbconvert_exporter": "python",
   "pygments_lexer": "ipython3",
   "version": "3.10.11"
  },
  "orig_nbformat": 4
 },
 "nbformat": 4,
 "nbformat_minor": 2
}
