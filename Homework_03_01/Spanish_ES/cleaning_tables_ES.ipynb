{
 "cells": [
  {
   "cell_type": "code",
   "execution_count": 1,
   "metadata": {},
   "outputs": [],
   "source": [
    "import pandas as pd"
   ]
  },
  {
   "cell_type": "code",
   "execution_count": 3,
   "metadata": {},
   "outputs": [],
   "source": [
    "clientes_table = pd.read_csv(\"../../Homework/Clientes.csv\",encoding=\"utf-8\",delimiter=\";\")"
   ]
  },
  {
   "cell_type": "code",
   "execution_count": 4,
   "metadata": {},
   "outputs": [],
   "source": [
    "clientes_table = clientes_table.drop([\"col10\"],axis=1)"
   ]
  },
  {
   "cell_type": "code",
   "execution_count": 5,
   "metadata": {},
   "outputs": [],
   "source": [
    "clientes_table.rename(columns={\"X\":\"Longitud\",\"Y\":\"Latitud\"},inplace=True)"
   ]
  },
  {
   "cell_type": "code",
   "execution_count": 6,
   "metadata": {},
   "outputs": [],
   "source": [
    "clientes_table[\"Latitud\"] = clientes_table[\"Latitud\"].astype(\"str\")\n",
    "clientes_table[\"Longitud\"] = clientes_table[\"Longitud\"].astype(\"str\")"
   ]
  },
  {
   "cell_type": "code",
   "execution_count": 7,
   "metadata": {},
   "outputs": [],
   "source": [
    "clientes_table[\"Latitud\"] = clientes_table[\"Latitud\"].apply(lambda x: x.replace(\",\",\".\"))\n",
    "clientes_table[\"Longitud\"] = clientes_table[\"Longitud\"].apply(lambda x: x.replace(\",\",\".\"))"
   ]
  },
  {
   "cell_type": "code",
   "execution_count": 8,
   "metadata": {},
   "outputs": [
    {
     "data": {
      "text/html": [
       "<div>\n",
       "<style scoped>\n",
       "    .dataframe tbody tr th:only-of-type {\n",
       "        vertical-align: middle;\n",
       "    }\n",
       "\n",
       "    .dataframe tbody tr th {\n",
       "        vertical-align: top;\n",
       "    }\n",
       "\n",
       "    .dataframe thead th {\n",
       "        text-align: right;\n",
       "    }\n",
       "</style>\n",
       "<table border=\"1\" class=\"dataframe\">\n",
       "  <thead>\n",
       "    <tr style=\"text-align: right;\">\n",
       "      <th></th>\n",
       "      <th>ID</th>\n",
       "      <th>Provincia</th>\n",
       "      <th>Nombre_y_Apellido</th>\n",
       "      <th>Domicilio</th>\n",
       "      <th>Telefono</th>\n",
       "      <th>Edad</th>\n",
       "      <th>Localidad</th>\n",
       "      <th>Longitud</th>\n",
       "      <th>Latitud</th>\n",
       "      <th>Fecha_Alta</th>\n",
       "      <th>Usuario_Alta</th>\n",
       "      <th>Fecha_Ultima_Modificacion</th>\n",
       "      <th>Usuario_Ultima_Modificacion</th>\n",
       "      <th>Marca_Baja</th>\n",
       "    </tr>\n",
       "  </thead>\n",
       "  <tbody>\n",
       "    <tr>\n",
       "      <th>0</th>\n",
       "      <td>1</td>\n",
       "      <td>Buenos Aires</td>\n",
       "      <td>HEBER JONI SANTANA</td>\n",
       "      <td>LAS HERAS Y BAT. 24 DE FEBRERO 4150  RINCON DE...</td>\n",
       "      <td>42-5161</td>\n",
       "      <td>58</td>\n",
       "      <td>LOMA VERDE</td>\n",
       "      <td>-58.81850307</td>\n",
       "      <td>-34.30997088</td>\n",
       "      <td>2015-01-01</td>\n",
       "      <td>user1</td>\n",
       "      <td>2015-01-01</td>\n",
       "      <td>user1</td>\n",
       "      <td>0</td>\n",
       "    </tr>\n",
       "    <tr>\n",
       "      <th>1</th>\n",
       "      <td>2</td>\n",
       "      <td>Buenos Aires</td>\n",
       "      <td>ANA SAPRIZA</td>\n",
       "      <td>PUEYRREDON Y DUPUY RUTA3 KM 52.500 S/N  BÂº LO...</td>\n",
       "      <td>49-7578</td>\n",
       "      <td>61</td>\n",
       "      <td>SANTA ROSA</td>\n",
       "      <td>-58.73073751</td>\n",
       "      <td>-34.93908311</td>\n",
       "      <td>2015-01-01</td>\n",
       "      <td>user1</td>\n",
       "      <td>2015-01-01</td>\n",
       "      <td>user1</td>\n",
       "      <td>0</td>\n",
       "    </tr>\n",
       "    <tr>\n",
       "      <th>2</th>\n",
       "      <td>3</td>\n",
       "      <td>Buenos Aires</td>\n",
       "      <td>FERNANDO LUIS SARALEGUI</td>\n",
       "      <td>CALDERON DE LA BARCA 498</td>\n",
       "      <td>49-3435</td>\n",
       "      <td>15</td>\n",
       "      <td>TORRES</td>\n",
       "      <td>-59.12794068</td>\n",
       "      <td>-34.43082199</td>\n",
       "      <td>2015-01-01</td>\n",
       "      <td>user1</td>\n",
       "      <td>2015-01-01</td>\n",
       "      <td>user1</td>\n",
       "      <td>0</td>\n",
       "    </tr>\n",
       "    <tr>\n",
       "      <th>3</th>\n",
       "      <td>4</td>\n",
       "      <td>Buenos Aires</td>\n",
       "      <td>MANUELA SARASOLA</td>\n",
       "      <td>RUTA 36 KM 45,500 S/N  EL PELIGRO</td>\n",
       "      <td>49-2883</td>\n",
       "      <td>29</td>\n",
       "      <td>RUTA SOL</td>\n",
       "      <td>-58.14393954</td>\n",
       "      <td>-34.92052706</td>\n",
       "      <td>2015-01-01</td>\n",
       "      <td>user1</td>\n",
       "      <td>2015-01-01</td>\n",
       "      <td>user1</td>\n",
       "      <td>0</td>\n",
       "    </tr>\n",
       "    <tr>\n",
       "      <th>4</th>\n",
       "      <td>5</td>\n",
       "      <td>Buenos Aires</td>\n",
       "      <td>MARIO RAÚL SARASUA</td>\n",
       "      <td>492 Y 186 S/N  COLONIA URQUIZA</td>\n",
       "      <td>491-4608</td>\n",
       "      <td>34</td>\n",
       "      <td>JOSE MELCHOR ROMERO</td>\n",
       "      <td>-58.089381</td>\n",
       "      <td>-34.9444471</td>\n",
       "      <td>2015-01-01</td>\n",
       "      <td>user1</td>\n",
       "      <td>2015-01-01</td>\n",
       "      <td>user1</td>\n",
       "      <td>0</td>\n",
       "    </tr>\n",
       "  </tbody>\n",
       "</table>\n",
       "</div>"
      ],
      "text/plain": [
       "   ID     Provincia        Nombre_y_Apellido  \\\n",
       "0   1  Buenos Aires       HEBER JONI SANTANA   \n",
       "1   2  Buenos Aires              ANA SAPRIZA   \n",
       "2   3  Buenos Aires  FERNANDO LUIS SARALEGUI   \n",
       "3   4  Buenos Aires         MANUELA SARASOLA   \n",
       "4   5  Buenos Aires       MARIO RAÚL SARASUA   \n",
       "\n",
       "                                           Domicilio  Telefono  Edad  \\\n",
       "0  LAS HERAS Y BAT. 24 DE FEBRERO 4150  RINCON DE...   42-5161    58   \n",
       "1  PUEYRREDON Y DUPUY RUTA3 KM 52.500 S/N  BÂº LO...   49-7578    61   \n",
       "2                           CALDERON DE LA BARCA 498   49-3435    15   \n",
       "3                  RUTA 36 KM 45,500 S/N  EL PELIGRO   49-2883    29   \n",
       "4                     492 Y 186 S/N  COLONIA URQUIZA  491-4608    34   \n",
       "\n",
       "             Localidad      Longitud       Latitud  Fecha_Alta Usuario_Alta  \\\n",
       "0           LOMA VERDE  -58.81850307  -34.30997088  2015-01-01        user1   \n",
       "1           SANTA ROSA  -58.73073751  -34.93908311  2015-01-01        user1   \n",
       "2               TORRES  -59.12794068  -34.43082199  2015-01-01        user1   \n",
       "3             RUTA SOL  -58.14393954  -34.92052706  2015-01-01        user1   \n",
       "4  JOSE MELCHOR ROMERO    -58.089381   -34.9444471  2015-01-01        user1   \n",
       "\n",
       "  Fecha_Ultima_Modificacion Usuario_Ultima_Modificacion  Marca_Baja  \n",
       "0                2015-01-01                       user1           0  \n",
       "1                2015-01-01                       user1           0  \n",
       "2                2015-01-01                       user1           0  \n",
       "3                2015-01-01                       user1           0  \n",
       "4                2015-01-01                       user1           0  "
      ]
     },
     "execution_count": 8,
     "metadata": {},
     "output_type": "execute_result"
    }
   ],
   "source": [
    "clientes_table.head()"
   ]
  },
  {
   "cell_type": "code",
   "execution_count": 9,
   "metadata": {},
   "outputs": [
    {
     "name": "stdout",
     "output_type": "stream",
     "text": [
      "<class 'pandas.core.frame.DataFrame'>\n",
      "RangeIndex: 3407 entries, 0 to 3406\n",
      "Data columns (total 14 columns):\n",
      " #   Column                       Non-Null Count  Dtype \n",
      "---  ------                       --------------  ----- \n",
      " 0   ID                           3407 non-null   int64 \n",
      " 1   Provincia                    3376 non-null   object\n",
      " 2   Nombre_y_Apellido            3361 non-null   object\n",
      " 3   Domicilio                    3359 non-null   object\n",
      " 4   Telefono                     3317 non-null   object\n",
      " 5   Edad                         3407 non-null   int64 \n",
      " 6   Localidad                    3375 non-null   object\n",
      " 7   Longitud                     3407 non-null   object\n",
      " 8   Latitud                      3407 non-null   object\n",
      " 9   Fecha_Alta                   3407 non-null   object\n",
      " 10  Usuario_Alta                 3407 non-null   object\n",
      " 11  Fecha_Ultima_Modificacion    3407 non-null   object\n",
      " 12  Usuario_Ultima_Modificacion  3407 non-null   object\n",
      " 13  Marca_Baja                   3407 non-null   int64 \n",
      "dtypes: int64(3), object(11)\n",
      "memory usage: 372.8+ KB\n"
     ]
    }
   ],
   "source": [
    "clientes_table.info()"
   ]
  },
  {
   "cell_type": "code",
   "execution_count": 9,
   "metadata": {},
   "outputs": [],
   "source": [
    "clientes_table.to_csv(\"../../Homework/clientes_clean.csv\",index=False,encoding=\"utf-8\")"
   ]
  },
  {
   "cell_type": "code",
   "execution_count": 23,
   "metadata": {},
   "outputs": [],
   "source": [
    "sucursales_table = pd.read_csv(\"../../Homework/Sucursales.csv\",delimiter=\";\",encoding=\"utf-8\")"
   ]
  },
  {
   "cell_type": "code",
   "execution_count": 27,
   "metadata": {},
   "outputs": [],
   "source": [
    "sucursales_table[\"Latitud\"] = sucursales_table[\"Latitud\"].apply(lambda x: x.replace(\",\",\".\"))\n",
    "sucursales_table[\"Longitud\"] = sucursales_table[\"Longitud\"].apply(lambda x: x.replace(\",\",\".\"))"
   ]
  },
  {
   "cell_type": "code",
   "execution_count": 32,
   "metadata": {},
   "outputs": [
    {
     "data": {
      "text/html": [
       "<div>\n",
       "<style scoped>\n",
       "    .dataframe tbody tr th:only-of-type {\n",
       "        vertical-align: middle;\n",
       "    }\n",
       "\n",
       "    .dataframe tbody tr th {\n",
       "        vertical-align: top;\n",
       "    }\n",
       "\n",
       "    .dataframe thead th {\n",
       "        text-align: right;\n",
       "    }\n",
       "</style>\n",
       "<table border=\"1\" class=\"dataframe\">\n",
       "  <thead>\n",
       "    <tr style=\"text-align: right;\">\n",
       "      <th></th>\n",
       "      <th>ID</th>\n",
       "      <th>Sucursal</th>\n",
       "      <th>Direccion</th>\n",
       "      <th>Localidad</th>\n",
       "      <th>Provincia</th>\n",
       "      <th>Latitud</th>\n",
       "      <th>Longitud</th>\n",
       "    </tr>\n",
       "  </thead>\n",
       "  <tbody>\n",
       "    <tr>\n",
       "      <th>0</th>\n",
       "      <td>1</td>\n",
       "      <td>Cabildo</td>\n",
       "      <td>Av. Cabildo 1342</td>\n",
       "      <td>Ciudad de Buenos Aires</td>\n",
       "      <td>Ciudad de Buenos Aires</td>\n",
       "      <td>-34.5678060</td>\n",
       "      <td>-58.4495720</td>\n",
       "    </tr>\n",
       "    <tr>\n",
       "      <th>1</th>\n",
       "      <td>2</td>\n",
       "      <td>Palermo 1</td>\n",
       "      <td>Guatemala 5701</td>\n",
       "      <td>CABA</td>\n",
       "      <td>CABA</td>\n",
       "      <td>-34.5790350</td>\n",
       "      <td>-58.4335660</td>\n",
       "    </tr>\n",
       "    <tr>\n",
       "      <th>2</th>\n",
       "      <td>3</td>\n",
       "      <td>Palermo 2</td>\n",
       "      <td>Gral. Lucio Norberto Mansilla 2668</td>\n",
       "      <td>CABA</td>\n",
       "      <td>C deBuenos Aires</td>\n",
       "      <td>-34.5959660</td>\n",
       "      <td>-58.4051500</td>\n",
       "    </tr>\n",
       "    <tr>\n",
       "      <th>3</th>\n",
       "      <td>4</td>\n",
       "      <td>Corrientes</td>\n",
       "      <td>Av. Corrientes 2352</td>\n",
       "      <td>Ciudad de Buenos Aires</td>\n",
       "      <td>Bs As</td>\n",
       "      <td>-34.6046850</td>\n",
       "      <td>-58.3987640</td>\n",
       "    </tr>\n",
       "    <tr>\n",
       "      <th>4</th>\n",
       "      <td>5</td>\n",
       "      <td>Almagro</td>\n",
       "      <td>Venezuela 3650</td>\n",
       "      <td>Capital</td>\n",
       "      <td>Bs.As.</td>\n",
       "      <td>-34.6173080</td>\n",
       "      <td>-58.4161790</td>\n",
       "    </tr>\n",
       "  </tbody>\n",
       "</table>\n",
       "</div>"
      ],
      "text/plain": [
       "   ID    Sucursal                           Direccion               Localidad  \\\n",
       "0   1     Cabildo                    Av. Cabildo 1342  Ciudad de Buenos Aires   \n",
       "1   2   Palermo 1                      Guatemala 5701                    CABA   \n",
       "2   3   Palermo 2  Gral. Lucio Norberto Mansilla 2668                    CABA   \n",
       "3   4  Corrientes                 Av. Corrientes 2352  Ciudad de Buenos Aires   \n",
       "4   5     Almagro                      Venezuela 3650                 Capital   \n",
       "\n",
       "                Provincia      Latitud     Longitud  \n",
       "0  Ciudad de Buenos Aires  -34.5678060  -58.4495720  \n",
       "1                    CABA  -34.5790350  -58.4335660  \n",
       "2        C deBuenos Aires  -34.5959660  -58.4051500  \n",
       "3                   Bs As  -34.6046850  -58.3987640  \n",
       "4                 Bs.As.   -34.6173080  -58.4161790  "
      ]
     },
     "execution_count": 32,
     "metadata": {},
     "output_type": "execute_result"
    }
   ],
   "source": [
    "sucursales_table.head()"
   ]
  },
  {
   "attachments": {},
   "cell_type": "markdown",
   "metadata": {},
   "source": [
    "Converting excel's files to csv"
   ]
  },
  {
   "cell_type": "code",
   "execution_count": 30,
   "metadata": {},
   "outputs": [],
   "source": [
    "sucursales_table.to_csv(\"../../Homework/Sucursales_clean.csv\",index=False,encoding=\"utf-8\")"
   ]
  },
  {
   "cell_type": "code",
   "execution_count": 8,
   "metadata": {},
   "outputs": [],
   "source": [
    "import openpyxl"
   ]
  },
  {
   "cell_type": "code",
   "execution_count": 16,
   "metadata": {},
   "outputs": [],
   "source": [
    "import xlrd"
   ]
  },
  {
   "cell_type": "code",
   "execution_count": 18,
   "metadata": {},
   "outputs": [],
   "source": [
    "canalventa = pd.read_excel('../../Homework/CanalDeVenta.xlsx')\n",
    "canalventa.to_csv('../../Homework/CanalDeVenta_csv.csv',index=False,encoding=\"utf-8\")"
   ]
  },
  {
   "cell_type": "code",
   "execution_count": 19,
   "metadata": {},
   "outputs": [],
   "source": [
    "empleados = pd.read_excel('../../Homework/Empleados.xls')\n",
    "empleados.to_csv('../../Homework/Empleados_csv.csv',index=False,encoding=\"utf-8\")"
   ]
  },
  {
   "cell_type": "code",
   "execution_count": 21,
   "metadata": {},
   "outputs": [],
   "source": [
    "productos = pd.read_excel('../../Homework/PRODUCTOS.xlsx')\n",
    "productos.to_csv('../../Homework/Productos_csv.csv',index=False,encoding=\"utf-8\")"
   ]
  },
  {
   "cell_type": "code",
   "execution_count": 22,
   "metadata": {},
   "outputs": [],
   "source": [
    "proveedores = pd.read_excel('../../Homework/Proveedores.xlsx')\n",
    "proveedores.to_csv('../../Homework/Proveedores_csv.csv',index=False,encoding=\"utf-8\")"
   ]
  },
  {
   "cell_type": "code",
   "execution_count": 164,
   "metadata": {},
   "outputs": [],
   "source": [
    "import random"
   ]
  },
  {
   "cell_type": "code",
   "execution_count": 3,
   "metadata": {},
   "outputs": [],
   "source": [
    "empleados = pd.read_csv('C:/Users/uriel/OneDrive/Documents/Capetas/Data Science/Soy Henry Contenido/Modulo 3/Clase 01/Homework/Empleados_csv.csv',encoding=\"utf-8\")"
   ]
  },
  {
   "cell_type": "code",
   "execution_count": 4,
   "metadata": {},
   "outputs": [
    {
     "data": {
      "text/html": [
       "<div>\n",
       "<style scoped>\n",
       "    .dataframe tbody tr th:only-of-type {\n",
       "        vertical-align: middle;\n",
       "    }\n",
       "\n",
       "    .dataframe tbody tr th {\n",
       "        vertical-align: top;\n",
       "    }\n",
       "\n",
       "    .dataframe thead th {\n",
       "        text-align: right;\n",
       "    }\n",
       "</style>\n",
       "<table border=\"1\" class=\"dataframe\">\n",
       "  <thead>\n",
       "    <tr style=\"text-align: right;\">\n",
       "      <th></th>\n",
       "      <th>ID_empleado</th>\n",
       "      <th>Apellido</th>\n",
       "      <th>Nombre</th>\n",
       "      <th>Sucursal</th>\n",
       "      <th>Sector</th>\n",
       "      <th>Cargo</th>\n",
       "      <th>Salario</th>\n",
       "    </tr>\n",
       "  </thead>\n",
       "  <tbody>\n",
       "    <tr>\n",
       "      <th>0</th>\n",
       "      <td>1968</td>\n",
       "      <td>Burgos</td>\n",
       "      <td>Jeronimo</td>\n",
       "      <td>Caseros</td>\n",
       "      <td>Administración</td>\n",
       "      <td>Administrativo</td>\n",
       "      <td>32000</td>\n",
       "    </tr>\n",
       "    <tr>\n",
       "      <th>1</th>\n",
       "      <td>1674</td>\n",
       "      <td>Villegas</td>\n",
       "      <td>Estefania</td>\n",
       "      <td>Caseros</td>\n",
       "      <td>Administración</td>\n",
       "      <td>Vendedor</td>\n",
       "      <td>32000</td>\n",
       "    </tr>\n",
       "    <tr>\n",
       "      <th>2</th>\n",
       "      <td>1516</td>\n",
       "      <td>Fernandez</td>\n",
       "      <td>Guillermo</td>\n",
       "      <td>Caseros</td>\n",
       "      <td>Administración</td>\n",
       "      <td>Vendedor</td>\n",
       "      <td>45000</td>\n",
       "    </tr>\n",
       "    <tr>\n",
       "      <th>3</th>\n",
       "      <td>1330</td>\n",
       "      <td>Ramirez</td>\n",
       "      <td>Eliana</td>\n",
       "      <td>Caseros</td>\n",
       "      <td>Administración</td>\n",
       "      <td>Vendedor</td>\n",
       "      <td>32000</td>\n",
       "    </tr>\n",
       "    <tr>\n",
       "      <th>4</th>\n",
       "      <td>1657</td>\n",
       "      <td>Carmona</td>\n",
       "      <td>Jose</td>\n",
       "      <td>Caseros</td>\n",
       "      <td>Administración</td>\n",
       "      <td>Vendedor</td>\n",
       "      <td>32000</td>\n",
       "    </tr>\n",
       "  </tbody>\n",
       "</table>\n",
       "</div>"
      ],
      "text/plain": [
       "   ID_empleado   Apellido     Nombre Sucursal          Sector           Cargo  \\\n",
       "0         1968     Burgos   Jeronimo  Caseros  Administración  Administrativo   \n",
       "1         1674   Villegas  Estefania  Caseros  Administración        Vendedor   \n",
       "2         1516  Fernandez  Guillermo  Caseros  Administración        Vendedor   \n",
       "3         1330    Ramirez     Eliana  Caseros  Administración        Vendedor   \n",
       "4         1657    Carmona       Jose  Caseros  Administración        Vendedor   \n",
       "\n",
       "   Salario  \n",
       "0    32000  \n",
       "1    32000  \n",
       "2    45000  \n",
       "3    32000  \n",
       "4    32000  "
      ]
     },
     "execution_count": 4,
     "metadata": {},
     "output_type": "execute_result"
    }
   ],
   "source": [
    "empleados.head()"
   ]
  },
  {
   "cell_type": "code",
   "execution_count": 5,
   "metadata": {},
   "outputs": [
    {
     "data": {
      "text/plain": [
       "3875    3\n",
       "1968    2\n",
       "1725    2\n",
       "3622    2\n",
       "3842    2\n",
       "       ..\n",
       "1975    1\n",
       "1759    1\n",
       "1055    1\n",
       "1054    1\n",
       "3545    1\n",
       "Name: ID_empleado, Length: 250, dtype: int64"
      ]
     },
     "execution_count": 5,
     "metadata": {},
     "output_type": "execute_result"
    }
   ],
   "source": [
    "empleados.ID_empleado.value_counts()"
   ]
  },
  {
   "attachments": {},
   "cell_type": "markdown",
   "metadata": {},
   "source": [
    "Como se puede ver, tenemos valores repetidos en la columna \"ID_empleado\". Esos valores repetidos debo cambiarlos ya que los campos de 'id' deben ser unicos para que en SQL funcione como primary key"
   ]
  },
  {
   "cell_type": "code",
   "execution_count": 6,
   "metadata": {},
   "outputs": [],
   "source": [
    "#Unique values only\n",
    "unique_values = empleados.ID_empleado.unique()\n",
    "\n",
    "# The amount of rows we have in the df (total of ID's)\n",
    "total_values = len(empleados)\n",
    "\n",
    "# A list with all the values between the minimum value and the maximum value\n",
    "rango = list(range(unique_values.min(),unique_values.max() + 1))\n",
    "\n",
    "# Removing the unique values from the range with all the values\n",
    "for i in unique_values:\n",
    "    rango.remove(i)"
   ]
  },
  {
   "cell_type": "code",
   "execution_count": 7,
   "metadata": {},
   "outputs": [],
   "source": [
    "# The difference between the total of ID´s and the length from unique_values\n",
    "dif = (total_values) - len(unique_values)\n",
    "\n",
    "# A list with all the new's indexes\n",
    "total = list(unique_values) + rango[:dif]\n",
    "total.sort()\n",
    "empleados[\"IdEmpleado\"] = total"
   ]
  },
  {
   "attachments": {},
   "cell_type": "markdown",
   "metadata": {},
   "source": [
    "Ahora ya no necesitamos mas la columna con los ID's duplicados entonces la eliminamos"
   ]
  },
  {
   "cell_type": "code",
   "execution_count": 8,
   "metadata": {},
   "outputs": [],
   "source": [
    "empleados.drop(columns = [\"ID_empleado\"], inplace = True)"
   ]
  },
  {
   "cell_type": "code",
   "execution_count": 9,
   "metadata": {},
   "outputs": [],
   "source": [
    "empleados = empleados[[\"IdEmpleado\",\"Nombre\",\"Apellido\",\"Sucursal\",\"Sector\",\"Cargo\",\"Salario\"]]\n",
    "empleados = empleados.set_index(\"IdEmpleado\")"
   ]
  },
  {
   "cell_type": "code",
   "execution_count": 10,
   "metadata": {},
   "outputs": [
    {
     "data": {
      "text/html": [
       "<div>\n",
       "<style scoped>\n",
       "    .dataframe tbody tr th:only-of-type {\n",
       "        vertical-align: middle;\n",
       "    }\n",
       "\n",
       "    .dataframe tbody tr th {\n",
       "        vertical-align: top;\n",
       "    }\n",
       "\n",
       "    .dataframe thead th {\n",
       "        text-align: right;\n",
       "    }\n",
       "</style>\n",
       "<table border=\"1\" class=\"dataframe\">\n",
       "  <thead>\n",
       "    <tr style=\"text-align: right;\">\n",
       "      <th></th>\n",
       "      <th>Nombre</th>\n",
       "      <th>Apellido</th>\n",
       "      <th>Sucursal</th>\n",
       "      <th>Sector</th>\n",
       "      <th>Cargo</th>\n",
       "      <th>Salario</th>\n",
       "    </tr>\n",
       "    <tr>\n",
       "      <th>IdEmpleado</th>\n",
       "      <th></th>\n",
       "      <th></th>\n",
       "      <th></th>\n",
       "      <th></th>\n",
       "      <th></th>\n",
       "      <th></th>\n",
       "    </tr>\n",
       "  </thead>\n",
       "  <tbody>\n",
       "    <tr>\n",
       "      <th>1011</th>\n",
       "      <td>Jeronimo</td>\n",
       "      <td>Burgos</td>\n",
       "      <td>Caseros</td>\n",
       "      <td>Administración</td>\n",
       "      <td>Administrativo</td>\n",
       "      <td>32000</td>\n",
       "    </tr>\n",
       "    <tr>\n",
       "      <th>1012</th>\n",
       "      <td>Estefania</td>\n",
       "      <td>Villegas</td>\n",
       "      <td>Caseros</td>\n",
       "      <td>Administración</td>\n",
       "      <td>Vendedor</td>\n",
       "      <td>32000</td>\n",
       "    </tr>\n",
       "    <tr>\n",
       "      <th>1013</th>\n",
       "      <td>Guillermo</td>\n",
       "      <td>Fernandez</td>\n",
       "      <td>Caseros</td>\n",
       "      <td>Administración</td>\n",
       "      <td>Vendedor</td>\n",
       "      <td>45000</td>\n",
       "    </tr>\n",
       "    <tr>\n",
       "      <th>1014</th>\n",
       "      <td>Eliana</td>\n",
       "      <td>Ramirez</td>\n",
       "      <td>Caseros</td>\n",
       "      <td>Administración</td>\n",
       "      <td>Vendedor</td>\n",
       "      <td>32000</td>\n",
       "    </tr>\n",
       "    <tr>\n",
       "      <th>1015</th>\n",
       "      <td>Jose</td>\n",
       "      <td>Carmona</td>\n",
       "      <td>Caseros</td>\n",
       "      <td>Administración</td>\n",
       "      <td>Vendedor</td>\n",
       "      <td>32000</td>\n",
       "    </tr>\n",
       "    <tr>\n",
       "      <th>...</th>\n",
       "      <td>...</td>\n",
       "      <td>...</td>\n",
       "      <td>...</td>\n",
       "      <td>...</td>\n",
       "      <td>...</td>\n",
       "      <td>...</td>\n",
       "    </tr>\n",
       "    <tr>\n",
       "      <th>3919</th>\n",
       "      <td>Jacobo</td>\n",
       "      <td>Higuita</td>\n",
       "      <td>Bariloche</td>\n",
       "      <td>Administración</td>\n",
       "      <td>Vendedor</td>\n",
       "      <td>13500</td>\n",
       "    </tr>\n",
       "    <tr>\n",
       "      <th>3929</th>\n",
       "      <td>Gabriel</td>\n",
       "      <td>Osorio</td>\n",
       "      <td>Bariloche</td>\n",
       "      <td>Administración</td>\n",
       "      <td>Vendedor</td>\n",
       "      <td>12800</td>\n",
       "    </tr>\n",
       "    <tr>\n",
       "      <th>3950</th>\n",
       "      <td>Sandra</td>\n",
       "      <td>Gomez</td>\n",
       "      <td>Bariloche</td>\n",
       "      <td>Administración</td>\n",
       "      <td>Técnico</td>\n",
       "      <td>13500</td>\n",
       "    </tr>\n",
       "    <tr>\n",
       "      <th>3975</th>\n",
       "      <td>Evelyn</td>\n",
       "      <td>Bustos</td>\n",
       "      <td>Bariloche</td>\n",
       "      <td>Administración</td>\n",
       "      <td>Aux. Administrativo</td>\n",
       "      <td>13500</td>\n",
       "    </tr>\n",
       "    <tr>\n",
       "      <th>3979</th>\n",
       "      <td>Juan</td>\n",
       "      <td>Rodas</td>\n",
       "      <td>Bariloche</td>\n",
       "      <td>Administración</td>\n",
       "      <td>Administrativo</td>\n",
       "      <td>56000</td>\n",
       "    </tr>\n",
       "  </tbody>\n",
       "</table>\n",
       "<p>267 rows × 6 columns</p>\n",
       "</div>"
      ],
      "text/plain": [
       "               Nombre   Apellido   Sucursal          Sector  \\\n",
       "IdEmpleado                                                    \n",
       "1011         Jeronimo     Burgos    Caseros  Administración   \n",
       "1012        Estefania   Villegas    Caseros  Administración   \n",
       "1013        Guillermo  Fernandez    Caseros  Administración   \n",
       "1014           Eliana    Ramirez    Caseros  Administración   \n",
       "1015             Jose    Carmona    Caseros  Administración   \n",
       "...               ...        ...        ...             ...   \n",
       "3919           Jacobo    Higuita  Bariloche  Administración   \n",
       "3929          Gabriel     Osorio  Bariloche  Administración   \n",
       "3950           Sandra      Gomez  Bariloche  Administración   \n",
       "3975           Evelyn     Bustos  Bariloche  Administración   \n",
       "3979             Juan      Rodas  Bariloche  Administración   \n",
       "\n",
       "                          Cargo  Salario  \n",
       "IdEmpleado                                \n",
       "1011             Administrativo    32000  \n",
       "1012                   Vendedor    32000  \n",
       "1013                   Vendedor    45000  \n",
       "1014                   Vendedor    32000  \n",
       "1015                   Vendedor    32000  \n",
       "...                         ...      ...  \n",
       "3919                   Vendedor    13500  \n",
       "3929                   Vendedor    12800  \n",
       "3950                    Técnico    13500  \n",
       "3975        Aux. Administrativo    13500  \n",
       "3979             Administrativo    56000  \n",
       "\n",
       "[267 rows x 6 columns]"
      ]
     },
     "execution_count": 10,
     "metadata": {},
     "output_type": "execute_result"
    }
   ],
   "source": [
    "empleados"
   ]
  },
  {
   "attachments": {},
   "cell_type": "markdown",
   "metadata": {},
   "source": [
    "Exporto df como un archivo \"csv\" para luego hacer la ingesta de la data a la tabla empleados en SQL"
   ]
  },
  {
   "cell_type": "code",
   "execution_count": 11,
   "metadata": {},
   "outputs": [],
   "source": [
    "empleados.to_csv(\"C:/Users/uriel/OneDrive/Documents/Capetas/Data Science/Soy Henry Contenido/Modulo 3/Clase 01/Homework/Empleados_clean.csv\",index=False,encoding=\"utf-8\")"
   ]
  }
 ],
 "metadata": {
  "kernelspec": {
   "display_name": "Python 3",
   "language": "python",
   "name": "python3"
  },
  "language_info": {
   "codemirror_mode": {
    "name": "ipython",
    "version": 3
   },
   "file_extension": ".py",
   "mimetype": "text/x-python",
   "name": "python",
   "nbconvert_exporter": "python",
   "pygments_lexer": "ipython3",
   "version": "3.10.11"
  },
  "orig_nbformat": 4
 },
 "nbformat": 4,
 "nbformat_minor": 2
}
